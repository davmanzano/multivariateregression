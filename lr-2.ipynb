{
 "cells": [
  {
   "cell_type": "markdown",
   "metadata": {},
   "source": [
    "# Linear Regression with multiple variables\n",
    "\n",
    "\n",
    "We will implement a linear regression model to predict housing prices. Here we have several features for each \n",
    "training data.  \n",
    "\n",
    "The file ex1data2.txt contains a training set of housing prices in Portland, Oregon. The first column is \n",
    "the size of the house (in square feet), the second column is the number of bedrooms, and the third column \n",
    "is the price of the house.\n",
    "\n",
    "## Feature normalization \n",
    "\n",
    "Because house sizes are about 1000 times the number of bedrooms, we need to perform feature scaling to ensure \n",
    "that gradient descent converges in a reasonable amount of time"
   ]
  },
  {
   "cell_type": "code",
   "execution_count": 224,
   "metadata": {
    "collapsed": false
   },
   "outputs": [
    {
     "data": {
      "text/html": [
       "<div>\n",
       "<table border=\"1\" class=\"dataframe\">\n",
       "  <thead>\n",
       "    <tr style=\"text-align: right;\">\n",
       "      <th></th>\n",
       "      <th>Size</th>\n",
       "      <th>No. Bedrooms</th>\n",
       "      <th>Price</th>\n",
       "    </tr>\n",
       "  </thead>\n",
       "  <tbody>\n",
       "    <tr>\n",
       "      <th>0</th>\n",
       "      <td>2104</td>\n",
       "      <td>3</td>\n",
       "      <td>399900</td>\n",
       "    </tr>\n",
       "    <tr>\n",
       "      <th>1</th>\n",
       "      <td>1600</td>\n",
       "      <td>3</td>\n",
       "      <td>329900</td>\n",
       "    </tr>\n",
       "    <tr>\n",
       "      <th>2</th>\n",
       "      <td>2400</td>\n",
       "      <td>3</td>\n",
       "      <td>369000</td>\n",
       "    </tr>\n",
       "    <tr>\n",
       "      <th>3</th>\n",
       "      <td>1416</td>\n",
       "      <td>2</td>\n",
       "      <td>232000</td>\n",
       "    </tr>\n",
       "    <tr>\n",
       "      <th>4</th>\n",
       "      <td>3000</td>\n",
       "      <td>4</td>\n",
       "      <td>539900</td>\n",
       "    </tr>\n",
       "  </tbody>\n",
       "</table>\n",
       "</div>"
      ],
      "text/plain": [
       "   Size  No. Bedrooms   Price\n",
       "0  2104             3  399900\n",
       "1  1600             3  329900\n",
       "2  2400             3  369000\n",
       "3  1416             2  232000\n",
       "4  3000             4  539900"
      ]
     },
     "execution_count": 224,
     "metadata": {},
     "output_type": "execute_result"
    }
   ],
   "source": [
    "# Multivariate Linear Regression \n",
    "%matplotlib inline\n",
    "import numpy as np\n",
    "import pandas as pd  \n",
    "import matplotlib.pyplot as plt\n",
    "plt.style.use('ggplot')\n",
    "\n",
    "# Take a second to appreciate how easy it is to read csv using pandas. No mess, no drama!\n",
    "data = pd.read_csv(\"ex1data2.txt\", header=None, names=['Size', 'No. Bedrooms', 'Price']) \n",
    "data.head()"
   ]
  },
  {
   "cell_type": "code",
   "execution_count": 225,
   "metadata": {
    "collapsed": false
   },
   "outputs": [
    {
     "data": {
      "text/html": [
       "<div>\n",
       "<table border=\"1\" class=\"dataframe\">\n",
       "  <thead>\n",
       "    <tr style=\"text-align: right;\">\n",
       "      <th></th>\n",
       "      <th>Size</th>\n",
       "      <th>No. Bedrooms</th>\n",
       "      <th>Price</th>\n",
       "    </tr>\n",
       "  </thead>\n",
       "  <tbody>\n",
       "    <tr>\n",
       "      <th>count</th>\n",
       "      <td>47.000000</td>\n",
       "      <td>47.000000</td>\n",
       "      <td>47.000000</td>\n",
       "    </tr>\n",
       "    <tr>\n",
       "      <th>mean</th>\n",
       "      <td>2000.680851</td>\n",
       "      <td>3.170213</td>\n",
       "      <td>340412.659574</td>\n",
       "    </tr>\n",
       "    <tr>\n",
       "      <th>std</th>\n",
       "      <td>794.702354</td>\n",
       "      <td>0.760982</td>\n",
       "      <td>125039.899586</td>\n",
       "    </tr>\n",
       "    <tr>\n",
       "      <th>min</th>\n",
       "      <td>852.000000</td>\n",
       "      <td>1.000000</td>\n",
       "      <td>169900.000000</td>\n",
       "    </tr>\n",
       "    <tr>\n",
       "      <th>25%</th>\n",
       "      <td>1432.000000</td>\n",
       "      <td>3.000000</td>\n",
       "      <td>249900.000000</td>\n",
       "    </tr>\n",
       "    <tr>\n",
       "      <th>50%</th>\n",
       "      <td>1888.000000</td>\n",
       "      <td>3.000000</td>\n",
       "      <td>299900.000000</td>\n",
       "    </tr>\n",
       "    <tr>\n",
       "      <th>75%</th>\n",
       "      <td>2269.000000</td>\n",
       "      <td>4.000000</td>\n",
       "      <td>384450.000000</td>\n",
       "    </tr>\n",
       "    <tr>\n",
       "      <th>max</th>\n",
       "      <td>4478.000000</td>\n",
       "      <td>5.000000</td>\n",
       "      <td>699900.000000</td>\n",
       "    </tr>\n",
       "  </tbody>\n",
       "</table>\n",
       "</div>"
      ],
      "text/plain": [
       "              Size  No. Bedrooms          Price\n",
       "count    47.000000     47.000000      47.000000\n",
       "mean   2000.680851      3.170213  340412.659574\n",
       "std     794.702354      0.760982  125039.899586\n",
       "min     852.000000      1.000000  169900.000000\n",
       "25%    1432.000000      3.000000  249900.000000\n",
       "50%    1888.000000      3.000000  299900.000000\n",
       "75%    2269.000000      4.000000  384450.000000\n",
       "max    4478.000000      5.000000  699900.000000"
      ]
     },
     "execution_count": 225,
     "metadata": {},
     "output_type": "execute_result"
    }
   ],
   "source": [
    "data.describe()"
   ]
  },
  {
   "cell_type": "markdown",
   "metadata": {},
   "source": [
    "To normalize features we should:\n",
    "   * Subtract the mean value of each feature from the dataset\n",
    "   * additionally scale (divide) the feature values by their respective “standard deviations.”\n",
    "   \n",
    "*Standard Devation (std)* is a measure that is used to quantify the amount of variation in a set of data values."
   ]
  },
  {
   "cell_type": "code",
   "execution_count": 226,
   "metadata": {
    "collapsed": false
   },
   "outputs": [],
   "source": [
    "# feature normalization using built-in pandas functions \n",
    "data = (data - data.mean()) / data.std()"
   ]
  },
  {
   "cell_type": "markdown",
   "metadata": {},
   "source": [
    "## Gradient descent \n",
    "We experimented with gradient descent previously when applying it with one variable. Here, we have an additional variable. The code should support any number of features and be vectorized. According to the implementation note \n",
    "in Andrew's excercise file, in this case the cost function could be written as such:  \n",
    "$$J(\\theta) =  \\frac{1}{2 m}  \\big(X\\theta -  \\overrightarrow{y} \\big)^{T} \\big(X\\theta -  \\overrightarrow{y} \\big)$$\n",
    "                                                        where:\n",
    "$$\\left[ \\begin{array}{cccc}\n",
    "- (X^{(1)})^{T} - \\\\\n",
    "- (X^{(2)})^{T} -\\\\\n",
    "\\ldots\\\\\n",
    "- (X^{(m)})^{T} -\\\\ \\end{array} \\right]$$\n",
    "and:\n",
    "$$\\vec{y} = \\left[ \\begin{array}{cccc}\n",
    "y^{(1)}\\\\\n",
    "y^{(2)}\\\\\n",
    "\\ldots\\\\\n",
    "y^{(m)}\\\\ \\end{array} \\right]$$"
   ]
  },
  {
   "cell_type": "code",
   "execution_count": 227,
   "metadata": {
    "collapsed": false
   },
   "outputs": [],
   "source": [
    "# Setting alpha and initializing theta values to be zero.The number of theta's is always one more \n",
    "# than the # of features. This means in this case we have three theta's. However we are also obligated to \n",
    "# write the algorithm in a way to accommodate for any # of theta's\n",
    "\n",
    "alpha = 0.01 \n",
    "theta = np.zeros(3)\n",
    "theta = np.matrix(theta)\n",
    "\n",
    "# number of iterations\n",
    "iter = 1500 \n",
    "\n",
    "# A column of ones should be inserted at the beginning of the X matrix\n",
    "# DataFrame.insert(loc, column name, value)\n",
    "data.insert(0, 'One', 1)"
   ]
  },
  {
   "cell_type": "markdown",
   "metadata": {},
   "source": [
    "Out of the 4 (X.shape) columns in our dataframe, columns 2 & 3 (Size and No. Bedrooms) should be used to construct X and the last one (Price) is used to build y."
   ]
  },
  {
   "cell_type": "code",
   "execution_count": 228,
   "metadata": {
    "collapsed": false
   },
   "outputs": [],
   "source": [
    "# .iloc() lets us select columns by index/label from 0 to length-1 of the axis)\n",
    "X = data.iloc[:, 0: data.shape[1]-1]\n",
    "X = np.matrix(X)\n",
    "y = data.iloc[:, data.shape[1]-1:data.shape[1]]\n",
    "y = np.matrix(y)"
   ]
  },
  {
   "cell_type": "code",
   "execution_count": 229,
   "metadata": {
    "collapsed": false
   },
   "outputs": [],
   "source": [
    "m = data.shape[0]"
   ]
  },
  {
   "cell_type": "code",
   "execution_count": 230,
   "metadata": {
    "collapsed": false
   },
   "outputs": [],
   "source": [
    "def cost(theta, X, y):\n",
    "#     print('shape of y = ', y.shape)\n",
    "#     print('shape of X = ', X.shape)\n",
    "#     print('shape of theta = ', theta.shape)\n",
    "    arr = np.power(((X * theta.T) - y), 2)\n",
    "    # we get an (m x 1) dimensional array \n",
    "    return np.sum(arr) / (2 * m)"
   ]
  },
  {
   "cell_type": "code",
   "execution_count": 231,
   "metadata": {
    "collapsed": false
   },
   "outputs": [
    {
     "data": {
      "text/plain": [
       "0.48936170212765967"
      ]
     },
     "execution_count": 231,
     "metadata": {},
     "output_type": "execute_result"
    }
   ],
   "source": [
    "cost(theta, X, y)"
   ]
  },
  {
   "cell_type": "code",
   "execution_count": 232,
   "metadata": {
    "collapsed": true
   },
   "outputs": [],
   "source": [
    "def gradientDecentMatP(theta, alpha, X, y):\n",
    "    theta1 = np.matrix(np.zeros(theta.shape))\n",
    "    error = (X * theta.T) - y\n",
    "    for j in range(theta.shape[1]):\n",
    "        temp = np.multiply(error, X[:,j])\n",
    "        theta1[0,j] = theta[0,j] - ((alpha / len(X)) * np.sum(temp))\n",
    "    return theta1"
   ]
  },
  {
   "cell_type": "code",
   "execution_count": 233,
   "metadata": {
    "collapsed": false
   },
   "outputs": [
    {
     "data": {
      "text/plain": [
       "matrix([[ -7.08652994e-19,   8.36796367e-03,   4.32851306e-03]])"
      ]
     },
     "execution_count": 233,
     "metadata": {},
     "output_type": "execute_result"
    }
   ],
   "source": [
    "# We run gradient descent once and use the result to check if the cost is decreasing in one iteration  \n",
    "gradientDecentMatP(theta, alpha, X, y)"
   ]
  },
  {
   "cell_type": "code",
   "execution_count": 234,
   "metadata": {
    "collapsed": false
   },
   "outputs": [
    {
     "data": {
      "text/plain": [
       "0.48054910410767188"
      ]
     },
     "execution_count": 234,
     "metadata": {},
     "output_type": "execute_result"
    }
   ],
   "source": [
    "theta_new = gradientDecentMatP(theta, alpha, X, y)\n",
    "cost(theta_new, X, y)"
   ]
  },
  {
   "cell_type": "code",
   "execution_count": 235,
   "metadata": {
    "collapsed": false,
    "scrolled": true
   },
   "outputs": [
    {
     "name": "stdout",
     "output_type": "stream",
     "text": [
      "alpha = 0.05\n",
      "[0.1325690403200446, 0.13248881991623926, 0.13241201967481833, 0.13233849351760485, 0.13226810164385419, 0.13220071025488278, 0.13213619129159312, 0.13207442218417484, 0.13201528561331716]\n",
      "alpha = 0.03\n",
      "[0.13986059016215924, 0.13962141790056626, 0.13938871202698191, 0.13916227734379866, 0.13894192627700599, 0.13872747844665043, 0.13851876026925145, 0.13831560458948056, 0.13811785033864607]\n",
      "alpha = 0.01\n",
      "[0.19079217031603379, 0.18991630937488599, 0.18905886281327441, 0.18821934247553765, 0.18739727439800891, 0.18659219838412336, 0.185803667592357, 0.18503124813660804, 0.1842745186986435]\n",
      "alpha = 0.1\n",
      "[0.13072076616188341, 0.13071787659326714, 0.13071523055549961, 0.13071280752396855, 0.13071058870386201, 0.1307085568843821, 0.1307066963052449, 0.13070499253443252, 0.13070343235624751]\n"
     ]
    }
   ],
   "source": [
    "# We try different values for alpha, to see how it affects the cost\n",
    "alphas = [0.05, 0.03, 0.01, 0.1]\n",
    "for alpha in alphas:\n",
    "    costs = []\n",
    "    theta = np.matrix(np.zeros(3))\n",
    "    for i in range(100):\n",
    "        costs.append(cost(theta, X, y))\n",
    "        theta = gradientDecentMatP(theta, alpha, X, y)\n",
    "    print(\"alpha =\", alpha)\n",
    "    print(costs[-10:-1])"
   ]
  },
  {
   "cell_type": "markdown",
   "metadata": {
    "collapsed": true
   },
   "source": [
    "This means that the alphas that are larger, cause a faster convergence in 100 iterations"
   ]
  }
 ],
 "metadata": {
  "anaconda-cloud": {},
  "kernelspec": {
   "display_name": "Python [conda root]",
   "language": "python",
   "name": "conda-root-py"
  },
  "language_info": {
   "codemirror_mode": {
    "name": "ipython",
    "version": 3
   },
   "file_extension": ".py",
   "mimetype": "text/x-python",
   "name": "python",
   "nbconvert_exporter": "python",
   "pygments_lexer": "ipython3",
   "version": "3.5.2"
  }
 },
 "nbformat": 4,
 "nbformat_minor": 1
}
